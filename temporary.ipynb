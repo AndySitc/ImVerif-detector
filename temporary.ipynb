{
 "cells": [
  {
   "cell_type": "code",
   "execution_count": 4,
   "metadata": {},
   "outputs": [
    {
     "name": "stdout",
     "output_type": "stream",
     "text": [
      "                                          image_path  score_alex  \\\n",
      "0  /medias/db/ImagingSecurity_misc/Collaborations...    0.081496   \n",
      "1                                         image_path         NaN   \n",
      "\n",
      "   predicted_label_alex  score_andy  predicted_label_andy  score_abdel  \\\n",
      "0                   0.0    0.091997                   0.0     0.000551   \n",
      "1                   NaN         NaN                   NaN          NaN   \n",
      "\n",
      "   predicted_label_abdel  score_CoDE  predicted_label_CoDE  \\\n",
      "0                    0.0    0.322918                   0.0   \n",
      "1                    NaN         NaN                   NaN   \n",
      "\n",
      "              score_amine predicted_label_amine  score_sahar_fr  \\\n",
      "0  1.6855933415745711e-15                     0        0.082752   \n",
      "1                   score       predicted_label             NaN   \n",
      "\n",
      "   predicted_label_sahar_fr  score_sahar_fs  predicted_label_sahar_fs  \\\n",
      "0                       0.0        0.275398                       0.0   \n",
      "1                       NaN             NaN                       NaN   \n",
      "\n",
      "   score_sahar_df40  predicted_label_sahar_df40  \n",
      "0          0.158423                         0.0  \n",
      "1               NaN                         NaN  \n"
     ]
    }
   ],
   "source": [
    "import pandas as pd\n",
    "df = pd.read_csv(\"output/merged_predictions.csv\")\n",
    "print(df)"
   ]
  },
  {
   "cell_type": "code",
   "execution_count": null,
   "metadata": {},
   "outputs": [],
   "source": []
  }
 ],
 "metadata": {
  "kernelspec": {
   "display_name": "Python 3",
   "language": "python",
   "name": "python3"
  },
  "language_info": {
   "codemirror_mode": {
    "name": "ipython",
    "version": 3
   },
   "file_extension": ".py",
   "mimetype": "text/x-python",
   "name": "python",
   "nbconvert_exporter": "python",
   "pygments_lexer": "ipython3",
   "version": "3.10.16"
  }
 },
 "nbformat": 4,
 "nbformat_minor": 2
}
